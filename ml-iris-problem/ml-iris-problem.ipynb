{
 "cells": [
  {
   "cell_type": "markdown",
   "metadata": {},
   "source": [
    "# Classifying Iris Flowers\n",
    "\n",
    "This is an end to end machine learning project that gave the oversight of how a machine learning project is to be completed and what steps are involved.\n",
    "\n",
    "The iris problem is a very famous problem for ML projects. Its mostly recommended for beginners to check their Machine Learning knowledge or just practice. I am taking the iris dataset to do both of the above mentioned reasons. \n",
    "\n",
    "Pre-processing is not targeted in this project i.e. Data Wrangling.\n"
   ]
  },
  {
   "cell_type": "code",
   "execution_count": 1,
   "metadata": {},
   "outputs": [
    {
     "name": "stdout",
     "output_type": "stream",
     "text": [
      "Pyhton: 3.7.0 (default, Jun 28 2018, 07:39:16) \n",
      "[Clang 4.0.1 (tags/RELEASE_401/final)]\n",
      "numpy: 1.15.1\n",
      "pandas: 0.23.4\n",
      "scikit-learn: 0.19.2\n",
      "matplotlib: 2.2.3\n"
     ]
    }
   ],
   "source": [
    "# libraries version check\n",
    "\n",
    "# python version\n",
    "import sys\n",
    "print(\"Pyhton: {}\".format(sys.version))\n",
    "\n",
    "# numpy\n",
    "import numpy as np\n",
    "print(\"numpy: {}\".format(np.__version__))\n",
    "\n",
    "# pandas\n",
    "import pandas as pd\n",
    "print(\"pandas: {}\".format(pd.__version__))\n",
    "\n",
    "# scikit-learn\n",
    "import sklearn\n",
    "print(\"scikit-learn: {}\".format(sklearn.__version__))\n",
    "\n",
    "# matplotlib\n",
    "import matplotlib\n",
    "\n",
    "print(\"matplotlib: {}\".format(matplotlib.__version__))"
   ]
  },
  {
   "cell_type": "markdown",
   "metadata": {},
   "source": [
    "## Importing libraries\n",
    "The above libraries are already imported but they are mainly for checkin the version and I personally remove them after checking them. When you have all the above working just remove them and import as I would do below"
   ]
  },
  {
   "cell_type": "code",
   "execution_count": 2,
   "metadata": {},
   "outputs": [],
   "source": [
    "# importing libraries\n",
    "import pandas as pd\n",
    "import numpy as np\n",
    "import matplotlib.pyplot as plt"
   ]
  },
  {
   "cell_type": "code",
   "execution_count": null,
   "metadata": {},
   "outputs": [],
   "source": []
  }
 ],
 "metadata": {
  "kernelspec": {
   "display_name": "Python 3",
   "language": "python",
   "name": "python3"
  },
  "language_info": {
   "codemirror_mode": {
    "name": "ipython",
    "version": 3
   },
   "file_extension": ".py",
   "mimetype": "text/x-python",
   "name": "python",
   "nbconvert_exporter": "python",
   "pygments_lexer": "ipython3",
   "version": "3.7.0"
  }
 },
 "nbformat": 4,
 "nbformat_minor": 2
}
